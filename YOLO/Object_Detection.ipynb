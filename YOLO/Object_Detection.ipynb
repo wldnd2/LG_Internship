{
 "cells": [
  {
   "cell_type": "code",
   "execution_count": 1,
   "metadata": {},
   "outputs": [],
   "source": [
    "import torch\n",
    "import cv2\n",
    "from matplotlib import pyplot as plt\n",
    "from numpy import ndarray as nd\n",
    "from ultralytics import YOLO\n",
    "import pandas as pd\n",
    "import os\n",
    "from PIL import Image"
   ]
  },
  {
   "cell_type": "code",
   "execution_count": 2,
   "metadata": {},
   "outputs": [],
   "source": [
    "# 모델 로드\n",
    "model = YOLO('best.pt')"
   ]
  },
  {
   "cell_type": "code",
   "execution_count": 3,
   "metadata": {},
   "outputs": [
    {
     "name": "stdout",
     "output_type": "stream",
     "text": [
      "vegetables.jpg\n"
     ]
    },
    {
     "name": "stderr",
     "output_type": "stream",
     "text": [
      "\n",
      "image 1/1 /Users/sanghee/Desktop/LG_Internship/YOLO/Test/vegetables.jpg: 448x640 1 Apple, 1 brocccoli, 1 Cabbage, 3 Leaks, 2 Onions, 2 Peppers, 1 Radish, 430.8ms\n",
      "Speed: 1.4ms preprocess, 430.8ms inference, 0.7ms postprocess per image at shape (1, 3, 448, 640)\n",
      "\n",
      "image 1/1 /Users/sanghee/Desktop/LG_Internship/YOLO/Test/vegetables.jpg: 448x640 1 brocccoli, 1 Cabbage, 1 Leak, 2 Onions, 1 Pepper, 427.8ms\n",
      "Speed: 1.4ms preprocess, 427.8ms inference, 0.6ms postprocess per image at shape (1, 3, 448, 640)\n"
     ]
    },
    {
     "name": "stdout",
     "output_type": "stream",
     "text": [
      "tensor([ 5.,  9., 10.,  4., 11., 10.])\n",
      "Cabbage\n",
      "Leak\n",
      "Onion\n",
      "brocccoli\n",
      "Pepper\n",
      "Onion\n"
     ]
    },
    {
     "ename": "",
     "evalue": "",
     "output_type": "error",
     "traceback": [
      "\u001b[1;31mThe Kernel crashed while executing code in the the current cell or a previous cell. Please review the code in the cell(s) to identify a possible cause of the failure. Click <a href='https://aka.ms/vscodeJupyterKernelCrash'>here</a> for more info. View Jupyter <a href='command:jupyter.viewOutput'>log</a> for further details."
     ]
    }
   ],
   "source": [
    "\n",
    "folder_path = \"./Test/\"\n",
    "\n",
    "image_files = [os.path.join(folder_path, f) for f in os.listdir(folder_path) if f.endswith(('.png', '.jpg', '.jpeg', '.gif'))]\n",
    "\n",
    "results = []\n",
    "for image_file in image_files:\n",
    "    with Image.open(image_file) as img:\n",
    "        print(os.path.basename(image_file))\n",
    "    results.append(model(image_file))\n",
    "\n",
    "    \n",
    "    res = model(image_file,conf=0.5)\n",
    "    names = model.names\n",
    "    \n",
    "    for r in res:\n",
    "        print(r.boxes.cls)\n",
    "        for c in r.boxes.cls:\n",
    "            print(names[int(c)])\n",
    "\n",
    "    res_plotted = res[0].plot()\n",
    "\n",
    "        \n",
    "    resized_img = cv2.resize(res_plotted, (800, 600))\n",
    "    cv2.imshow(\"Image_detections\", resized_img)\n",
    "    \n",
    "    ESC = cv2.waitKey(0)\n",
    "    if ESC == 27:\n",
    "        cv2.destroyAllWindows()\n",
    "        exit()"
   ]
  },
  {
   "cell_type": "code",
   "execution_count": 3,
   "metadata": {},
   "outputs": [],
   "source": [
    "# 웹캠 열기\n",
    "cap = cv2.VideoCapture(1)"
   ]
  },
  {
   "cell_type": "code",
   "execution_count": null,
   "metadata": {},
   "outputs": [],
   "source": [
    "\n",
    "while cap.isOpened():\n",
    "    ret, frame = cap.read()\n",
    "    \n",
    "    results = model(frame)\n",
    "    names = model.predict(frame)\n",
    "    print(names.name)\n",
    "    cv2.imshow('Img-Detection', nd.squeeze(results[0].plot()))\n",
    "    \n",
    "    if cv2.waitKey(10) & 0xFF == ord('q'):\n",
    "        break\n",
    "cap.release()\n",
    "cv2.destroyAllWindows()"
   ]
  }
 ],
 "metadata": {
  "kernelspec": {
   "display_name": "Python 3",
   "language": "python",
   "name": "python3"
  },
  "language_info": {
   "codemirror_mode": {
    "name": "ipython",
    "version": 3
   },
   "file_extension": ".py",
   "mimetype": "text/x-python",
   "name": "python",
   "nbconvert_exporter": "python",
   "pygments_lexer": "ipython3",
   "version": "3.11.3"
  },
  "orig_nbformat": 4
 },
 "nbformat": 4,
 "nbformat_minor": 2
}
